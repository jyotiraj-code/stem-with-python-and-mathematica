{
 "cells": [
  {
   "cell_type": "code",
   "execution_count": 1,
   "metadata": {},
   "outputs": [],
   "source": [
    "#Some of the basic things which we can do with python"
   ]
  },
  {
   "cell_type": "code",
   "execution_count": 2,
   "metadata": {},
   "outputs": [
    {
     "name": "stdout",
     "output_type": "stream",
     "text": [
      "After 12 years, 1000rs will be grown to 2795.85632602213.\n"
     ]
    }
   ],
   "source": [
    "n = 12 #years\n",
    "amt = 1000\n",
    "rate = 5\n",
    "interest = amt*(1+(rate/100))**n\n",
    "tot_amt = amt+interest\n",
    "\n",
    "print(f\"After {n} years, 1000rs will be grown to {tot_amt}.\")"
   ]
  },
  {
   "cell_type": "code",
   "execution_count": 3,
   "metadata": {},
   "outputs": [
    {
     "name": "stdout",
     "output_type": "stream",
     "text": [
      "['__doc__', '__loader__', '__name__', '__package__', '__spec__', 'acos', 'acosh', 'asin', 'asinh', 'atan', 'atan2', 'atanh', 'cbrt', 'ceil', 'comb', 'copysign', 'cos', 'cosh', 'degrees', 'dist', 'e', 'erf', 'erfc', 'exp', 'exp2', 'expm1', 'fabs', 'factorial', 'floor', 'fmod', 'frexp', 'fsum', 'gamma', 'gcd', 'hypot', 'inf', 'isclose', 'isfinite', 'isinf', 'isnan', 'isqrt', 'lcm', 'ldexp', 'lgamma', 'log', 'log10', 'log1p', 'log2', 'modf', 'nan', 'nextafter', 'perm', 'pi', 'pow', 'prod', 'radians', 'remainder', 'sin', 'sinh', 'sqrt', 'tan', 'tanh', 'tau', 'trunc', 'ulp']\n"
     ]
    }
   ],
   "source": [
    "import math\n",
    "print(dir(math))"
   ]
  },
  {
   "cell_type": "code",
   "execution_count": 4,
   "metadata": {},
   "outputs": [
    {
     "name": "stdout",
     "output_type": "stream",
     "text": [
      "    2 1102.50\n",
      "    4 1215.51\n",
      "    6 1340.10\n",
      "    8 1477.46\n",
      "   10 1628.89\n",
      "   12 1795.86\n",
      "   14 1979.93\n",
      "   18 2406.62\n",
      "   20 2653.30\n"
     ]
    }
   ],
   "source": [
    "#Comparing for different values of years\n",
    "years = [2,4,6,8,10,12,14,18,20]\n",
    "\n",
    "for years in years:\n",
    "    r = 5\n",
    "    P = 1000\n",
    "    A = P*(1+r/100)**years\n",
    "    print(f'{years:5d}{A:8.2f}')"
   ]
  },
  {
   "cell_type": "code",
   "execution_count": 5,
   "metadata": {},
   "outputs": [
    {
     "data": {
      "text/plain": [
       "1276.2815625000003"
      ]
     },
     "execution_count": 5,
     "metadata": {},
     "output_type": "execute_result"
    }
   ],
   "source": [
    "#Introducing function to solve the problem\n",
    "def amount(n):\n",
    "    P = 1000\n",
    "    r = 5\n",
    "    return P*(1+r/100)**n\n",
    "\n",
    "n = int(input(\"Type the number of years you want your money to get interested on: \"))\n",
    "\n",
    "amount(n)"
   ]
  },
  {
   "cell_type": "code",
   "execution_count": 2,
   "metadata": {},
   "outputs": [
    {
     "name": "stdout",
     "output_type": "stream",
     "text": [
      "9.99733629214461\n"
     ]
    }
   ],
   "source": [
    "# Learning about functions as an Argument to functions\n",
    "\n",
    "def diff(f, x, h=1E-6):\n",
    "    r = (f(x - h) - 2 * f(x) + f(x + h)) / float(h * h)\n",
    "    return r\n",
    "\n",
    "def f(a, b, c, x):\n",
    "    return a * x**2 + b * x + c\n",
    "\n",
    "# Input validation for 'a'\n",
    "while True:\n",
    "    try:\n",
    "        a = int(input(\"Value of a: \"))\n",
    "        break\n",
    "    except ValueError:\n",
    "        print(\"Please enter a valid integer for 'a'.\")\n",
    "\n",
    "# Input validation for 'b'\n",
    "while True:\n",
    "    try:\n",
    "        b = int(input(\"Value of b: \"))\n",
    "        break\n",
    "    except ValueError:\n",
    "        print(\"Please enter a valid integer for 'b'.\")\n",
    "\n",
    "# Input validation for 'c'\n",
    "while True:\n",
    "    try:\n",
    "        c = int(input(\"Value of c: \"))\n",
    "        break\n",
    "    except ValueError:\n",
    "        print(\"Please enter a valid integer for 'c'.\")\n",
    "\n",
    "# Defining the function f(x) = ax^2 + bx + c\n",
    "# with the provided values of a, b, and c\n",
    "def f_a_b_c(x):\n",
    "    return f(a, b, c, x)\n",
    "\n",
    "# Calculating the derivative of f at x = 1.5\n",
    "df2 = diff(f_a_b_c, 1.5)\n",
    "print(df2)\n"
   ]
  },
  {
   "cell_type": "code",
   "execution_count": null,
   "metadata": {},
   "outputs": [],
   "source": []
  }
 ],
 "metadata": {
  "kernelspec": {
   "display_name": "Python 3",
   "language": "python",
   "name": "python3"
  },
  "language_info": {
   "codemirror_mode": {
    "name": "ipython",
    "version": 3
   },
   "file_extension": ".py",
   "mimetype": "text/x-python",
   "name": "python",
   "nbconvert_exporter": "python",
   "pygments_lexer": "ipython3",
   "version": "3.11.1"
  }
 },
 "nbformat": 4,
 "nbformat_minor": 2
}
